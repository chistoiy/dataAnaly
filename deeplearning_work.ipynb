{
 "cells": [
  {
   "cell_type": "markdown",
   "metadata": {
    "toc": true
   },
   "source": [
    "<h1>Table of Contents<span class=\"tocSkip\"></span></h1>\n",
    "<div class=\"toc\"><ul class=\"toc-item\"><li><span><a href=\"#深度学习\" data-toc-modified-id=\"深度学习-1\"><span class=\"toc-item-num\">1&nbsp;&nbsp;</span>深度学习</a></span><ul class=\"toc-item\"><li><span><a href=\"#tensorflow基础\" data-toc-modified-id=\"tensorflow基础-1.1\"><span class=\"toc-item-num\">1.1&nbsp;&nbsp;</span>tensorflow基础</a></span></li><li><span><a href=\"#tensenflow中的单位\" data-toc-modified-id=\"tensenflow中的单位-1.2\"><span class=\"toc-item-num\">1.2&nbsp;&nbsp;</span>tensenflow中的单位</a></span><ul class=\"toc-item\"><li><span><a href=\"#图\" data-toc-modified-id=\"图-1.2.1\"><span class=\"toc-item-num\">1.2.1&nbsp;&nbsp;</span>图</a></span></li><li><span><a href=\"#op\" data-toc-modified-id=\"op-1.2.2\"><span class=\"toc-item-num\">1.2.2&nbsp;&nbsp;</span>op</a></span></li></ul></li></ul></li></ul></div>"
   ]
  },
  {
   "cell_type": "markdown",
   "metadata": {},
   "source": [
    "# 深度学习\n",
    "\n",
    "\n",
    "+ 场景 图像理解，语音识别，自然语言处理，机器自主\n",
    "+ 常见算法 深度神经网络，卷积神经网络，递归神经网络  \n",
    "\n",
    "D  | 机器学习 |-|深度学习| \n",
    ":-: | :-:  | :-:  | :-:  | \n",
    "算法  | 分类：神经网络 | -   |深度神经网络 图像：卷积神经网络 自然语言处理：循环神经网络    | \n",
    "领域|-|-|图像。。|\n",
    "速度|数据量大，特征多，算法设计本身复杂|-|计算 等待时间长|\n",
    "\n",
    "+ 计算密集型与IO密集型\n",
    "    + 计算机密集型： cpu计算，读写文件比较少\n",
    "    + IO密集型：django，scrapy ，http请求，磁盘读写\n",
    "\n",
    "+ 框架 caffe tensorflow torch theano deeplearning4j cntk dsstne\n",
    "+ pip install tensorflow\n",
    "\n"
   ]
  },
  {
   "cell_type": "code",
   "execution_count": 3,
   "metadata": {},
   "outputs": [],
   "source": [
    "import tensorflow as tf"
   ]
  },
  {
   "cell_type": "markdown",
   "metadata": {},
   "source": [
    "##  tensorflow基础\n",
    "+ 通过会话来进行运算"
   ]
  },
  {
   "cell_type": "code",
   "execution_count": 13,
   "metadata": {},
   "outputs": [
    {
     "name": "stdout",
     "output_type": "stream",
     "text": [
      "sum1: Tensor(\"Add_8:0\", shape=(), dtype=float32)\n",
      "default graph: <function get_default_graph at 0x000002067B249158>\n",
      "graph of a <tensorflow.python.framework.ops.Graph object at 0x000002067DD586A0>\n",
      "graph of sum1 <tensorflow.python.framework.ops.Graph object at 0x000002067DD586A0>\n",
      "\n",
      "use sess,the sum1: 11.0\n",
      "graph of sess <tensorflow.python.framework.ops.Graph object at 0x000002067DD586A0>\n"
     ]
    }
   ],
   "source": [
    "# 举个例子\n",
    "a = tf.constant(5.0)\n",
    "b = tf.constant(6.0)\n",
    "sum1 = tf.add(a, b)\n",
    "print('sum1:',sum1)\n",
    "print('default graph:', tf.get_default_graph)\n",
    "print('graph of a', a.graph)\n",
    "print('graph of sum1', sum1.graph)\n",
    "print()\n",
    "with tf.Session() as sess:\n",
    "    print('use sess,the sum1:', sess.run(sum1))\n",
    "    print('graph of sess', sess.graph)\n",
    "    "
   ]
  },
  {
   "cell_type": "markdown",
   "metadata": {},
   "source": [
    "## tensenflow中的单位\n",
    "+ 张量 tensor 即数据\n",
    "+ 节点 operation 即运算操作节点 op\n",
    "+ 图 graph 程序结构\n",
    "\n",
    "+ 会话 Session 运算程序的图 运算真正开始的地方"
   ]
  },
  {
   "cell_type": "markdown",
   "metadata": {},
   "source": [
    " ### 图\n",
    " + 相当于给默认的图分配内存，将tensor，op,sess加载进内存,同一张图里的内存所用的内存地址是一样的\n",
    "        + 当在不同图里进行运算时，内存地址是不一样的\n",
    "    + tf.get_default_graph() 获取图\n",
    "    + tensor.graph / op.graph / sess.graph\n",
    "    + 创建图\n",
    "        + tf.Graph()\n",
    "        + .as_default() 设置为当前运算的图（即活跃的图）"
   ]
  },
  {
   "cell_type": "code",
   "execution_count": 20,
   "metadata": {},
   "outputs": [
    {
     "name": "stdout",
     "output_type": "stream",
     "text": [
      "graph of g <tensorflow.python.framework.ops.Graph object at 0x0000020608381400>\n",
      "graph of c  <tensorflow.python.framework.ops.Graph object at 0x0000020608381400>\n"
     ]
    }
   ],
   "source": [
    "# 创建一张图\n",
    "g = tf.Graph()\n",
    "print('graph of g', g)\n",
    "with g.as_default():\n",
    "    c = tf.constant(11.0)\n",
    "    print('graph of c ', c.graph)\n"
   ]
  },
  {
   "cell_type": "markdown",
   "metadata": {},
   "source": [
    "### op\n",
    "+ 只要使用了tensorflow的api定义的函数都可以是op\n",
    "![op的类型](img/tensorflow_op.png)"
   ]
  },
  {
   "cell_type": "code",
   "execution_count": 6,
   "metadata": {},
   "outputs": [
    {
     "name": "stdout",
     "output_type": "stream",
     "text": [
      "Downloading data from https://storage.googleapis.com/tensorflow/tf-keras-datasets/mnist.npz\n",
      "11493376/11490434 [==============================] - 3s 0us/step\n"
     ]
    }
   ],
   "source": [
    "mnist = tf.keras.datasets.mnist\n",
    "\n",
    "(x_train, y_train), (x_test, y_test) = mnist.load_data()\n",
    "x_train, x_test = x_train / 255.0, x_test / 255.0"
   ]
  },
  {
   "cell_type": "code",
   "execution_count": 7,
   "metadata": {},
   "outputs": [
    {
     "name": "stdout",
     "output_type": "stream",
     "text": [
      "WARNING:tensorflow:From c:\\d_files\\miniconda\\envs\\cpython37\\lib\\site-packages\\tensorflow\\python\\ops\\resource_variable_ops.py:435: colocate_with (from tensorflow.python.framework.ops) is deprecated and will be removed in a future version.\n",
      "Instructions for updating:\n",
      "Colocations handled automatically by placer.\n",
      "WARNING:tensorflow:From c:\\d_files\\miniconda\\envs\\cpython37\\lib\\site-packages\\tensorflow\\python\\keras\\layers\\core.py:143: calling dropout (from tensorflow.python.ops.nn_ops) with keep_prob is deprecated and will be removed in a future version.\n",
      "Instructions for updating:\n",
      "Please use `rate` instead of `keep_prob`. Rate should be set to `rate = 1 - keep_prob`.\n"
     ]
    }
   ],
   "source": [
    "model = tf.keras.models.Sequential([\n",
    "  tf.keras.layers.Flatten(input_shape=(28, 28)),\n",
    "  tf.keras.layers.Dense(128, activation='relu'),\n",
    "  tf.keras.layers.Dropout(0.2),\n",
    "  tf.keras.layers.Dense(10, activation='softmax')\n",
    "])\n",
    "\n",
    "model.compile(optimizer='adam',\n",
    "              loss='sparse_categorical_crossentropy',\n",
    "              metrics=['accuracy'])"
   ]
  },
  {
   "cell_type": "code",
   "execution_count": 8,
   "metadata": {},
   "outputs": [
    {
     "name": "stdout",
     "output_type": "stream",
     "text": [
      "Epoch 1/5\n",
      "60000/60000 [==============================] - 5s 91us/sample - loss: 0.2937 - acc: 0.9150\n",
      "Epoch 2/5\n",
      "60000/60000 [==============================] - 5s 84us/sample - loss: 0.1414 - acc: 0.9585\n",
      "Epoch 3/5\n",
      "60000/60000 [==============================] - 5s 89us/sample - loss: 0.1072 - acc: 0.9680\n",
      "Epoch 4/5\n",
      "60000/60000 [==============================] - 5s 86us/sample - loss: 0.0876 - acc: 0.9729\n",
      "Epoch 5/5\n",
      "60000/60000 [==============================] - 5s 89us/sample - loss: 0.0747 - acc: 0.9767\n",
      " - 0s - loss: 0.0681 - acc: 0.9799\n"
     ]
    },
    {
     "data": {
      "text/plain": [
       "[0.0680675222624559, 0.9799]"
      ]
     },
     "execution_count": 8,
     "metadata": {},
     "output_type": "execute_result"
    }
   ],
   "source": [
    "model.fit(x_train, y_train, epochs=5)\n",
    "\n",
    "model.evaluate(x_test,  y_test, verbose=2)"
   ]
  },
  {
   "cell_type": "code",
   "execution_count": null,
   "metadata": {},
   "outputs": [],
   "source": []
  }
 ],
 "metadata": {
  "kernelspec": {
   "display_name": "Python 3",
   "language": "python",
   "name": "python3"
  },
  "language_info": {
   "codemirror_mode": {
    "name": "ipython",
    "version": 3
   },
   "file_extension": ".py",
   "mimetype": "text/x-python",
   "name": "python",
   "nbconvert_exporter": "python",
   "pygments_lexer": "ipython3",
   "version": "3.7.3"
  },
  "toc": {
   "base_numbering": 1,
   "nav_menu": {},
   "number_sections": true,
   "sideBar": true,
   "skip_h1_title": false,
   "title_cell": "Table of Contents",
   "title_sidebar": "Contents",
   "toc_cell": true,
   "toc_position": {},
   "toc_section_display": true,
   "toc_window_display": true
  }
 },
 "nbformat": 4,
 "nbformat_minor": 2
}
